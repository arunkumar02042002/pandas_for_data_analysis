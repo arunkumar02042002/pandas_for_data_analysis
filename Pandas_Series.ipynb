{
 "cells": [
  {
   "cell_type": "markdown",
   "id": "2f8c0f73-eaea-4339-abfb-cc748b87fc87",
   "metadata": {},
   "source": [
    "# Pandas Series\n",
    "Series is a one-dimensional labeled array capable of holding any data type (integers, strings, floating point numbers, Python objects, etc.). The axis labels are collectively referred to as the index.\n",
    "\n",
    "Make sure that you have installed Pandas on your machine.\n",
    "\n",
    "To install pandas, follow:\n",
    "```\n",
    "py -m pip install pandas\n",
    "```\n",
    "or\n",
    "```\n",
    "pip install pandas\n",
    "```"
   ]
  },
  {
   "cell_type": "code",
   "execution_count": 3,
   "id": "1b79ac72-b460-458c-878a-131f18b8f0e8",
   "metadata": {},
   "outputs": [],
   "source": [
    "import pandas as pd"
   ]
  },
  {
   "cell_type": "code",
   "execution_count": 36,
   "id": "458f2a0e-7f1a-4e8b-a1ab-e39ba92ec49c",
   "metadata": {},
   "outputs": [
    {
     "data": {
      "text/plain": [
       "0    1\n",
       "1    2\n",
       "2    3\n",
       "3    4\n",
       "4    5\n",
       "dtype: int64"
      ]
     },
     "execution_count": 36,
     "metadata": {},
     "output_type": "execute_result"
    }
   ],
   "source": [
    "numbers = [1, 2, 3, 4, 5]\n",
    "\n",
    "# Create a series\n",
    "pd.Series(numbers) # Shif + Tab to open documentation"
   ]
  },
  {
   "cell_type": "code",
   "execution_count": 37,
   "id": "f1bca979-595a-4aca-ba31-dfbb3e59273b",
   "metadata": {},
   "outputs": [
    {
     "data": {
      "text/plain": [
       "0    a\n",
       "1    b\n",
       "2    c\n",
       "3    d\n",
       "4    e\n",
       "dtype: object"
      ]
     },
     "execution_count": 37,
     "metadata": {},
     "output_type": "execute_result"
    }
   ],
   "source": [
    "letters = ['a', 'b', 'c', 'd', 'e']\n",
    "\n",
    "# Create a series of strings are considered objects\n",
    "pd.Series(letters)"
   ]
  },
  {
   "cell_type": "code",
   "execution_count": 38,
   "id": "9e771606-14a2-490f-a39f-ee4f43b7c422",
   "metadata": {},
   "outputs": [
    {
     "data": {
      "text/plain": [
       "1    a\n",
       "2    b\n",
       "3    c\n",
       "4    d\n",
       "5    e\n",
       "dtype: object"
      ]
     },
     "execution_count": 38,
     "metadata": {},
     "output_type": "execute_result"
    }
   ],
   "source": [
    "pd.Series(data=letters, index=numbers) # Index can be any data typed"
   ]
  },
  {
   "cell_type": "code",
   "execution_count": 12,
   "id": "4d8d7969-37e0-4c5d-9234-bab56e529be0",
   "metadata": {},
   "outputs": [],
   "source": [
    "s = pd.Series(data=letters, index=['letter1', 'letter2', 'letter3', 'letter4', 'letter5'])"
   ]
  },
  {
   "cell_type": "code",
   "execution_count": 13,
   "id": "49203b8d-a989-449e-824b-100748481001",
   "metadata": {},
   "outputs": [
    {
     "data": {
      "text/plain": [
       "'b'"
      ]
     },
     "execution_count": 13,
     "metadata": {},
     "output_type": "execute_result"
    }
   ],
   "source": [
    "s['letter2']"
   ]
  },
  {
   "cell_type": "code",
   "execution_count": 19,
   "id": "cd701223-61fb-48b0-898c-0c3961aeff7b",
   "metadata": {},
   "outputs": [
    {
     "data": {
      "text/plain": [
       "name                    Arun\n",
       "age                       22\n",
       "JobRole    Backend Developer\n",
       "dtype: object"
      ]
     },
     "execution_count": 19,
     "metadata": {},
     "output_type": "execute_result"
    }
   ],
   "source": [
    "data = {\n",
    "    'name':'Arun',\n",
    "    'age':22,\n",
    "    'JobRole': \"Backend Developer\"\n",
    "}\n",
    "\n",
    "# Create a series with the dictionary (are considered object)\n",
    "pd.Series(data)"
   ]
  },
  {
   "cell_type": "code",
   "execution_count": 22,
   "id": "94d65734-b1fd-4f33-b8fd-8d44a68c9a6a",
   "metadata": {},
   "outputs": [
    {
     "data": {
      "text/plain": [
       "name    Arun\n",
       "age       22\n",
       "Job      NaN\n",
       "dtype: object"
      ]
     },
     "execution_count": 22,
     "metadata": {},
     "output_type": "execute_result"
    }
   ],
   "source": [
    "# It use the index to find those keys, but if it doesn't exist will provide NaN\n",
    "pd.Series(data=data, index=['name', 'age', 'Job'])"
   ]
  },
  {
   "cell_type": "markdown",
   "id": "0ebe946e-a413-4dc4-b338-36c1aa60f145",
   "metadata": {},
   "source": [
    "+ Attribute and Methods - An attribute gives you data about the object, and a method actually performs operations on the object, which could end up changing the object.\n",
    "+ .dtype - Returns the type of the series\n",
    "+ .values - returns the series as an array\n",
    "+ .index - Returns information about the index\n",
    "+ .hasnans - Will check whether a series has missing values (or NaNs)\n",
    "+ .shape - Returns the shape of a Series as a tuple(For eg. 5 lines and 1 column) - Usually used with dataframe\n",
    "+ .size - Returns the size of the se"
   ]
  },
  {
   "cell_type": "markdown",
   "id": "56594f23-b10b-4a32-b6c6-927ad6fc648e",
   "metadata": {},
   "source": [
    "## Attributes"
   ]
  },
  {
   "cell_type": "code",
   "execution_count": 23,
   "id": "b453a157-838a-4a94-a76a-e9f2e224e9b4",
   "metadata": {},
   "outputs": [
    {
     "data": {
      "text/plain": [
       "0    1\n",
       "1    2\n",
       "2    3\n",
       "3    4\n",
       "4    5\n",
       "dtype: int64"
      ]
     },
     "execution_count": 23,
     "metadata": {},
     "output_type": "execute_result"
    }
   ],
   "source": [
    "numbers = [1, 2, 3, 4, 5]\n",
    "letters = ['a', 'b', 'c', 'd', 'e']\n",
    "\n",
    "# Create a series of numbers\n",
    "number_series = pd.Series(numbers)\n",
    "number_series"
   ]
  },
  {
   "cell_type": "code",
   "execution_count": 24,
   "id": "b511fdca-1797-4aed-8642-9e1f355ba73b",
   "metadata": {},
   "outputs": [
    {
     "data": {
      "text/plain": [
       "0    a\n",
       "1    b\n",
       "2    c\n",
       "3    d\n",
       "4    e\n",
       "dtype: object"
      ]
     },
     "execution_count": 24,
     "metadata": {},
     "output_type": "execute_result"
    }
   ],
   "source": [
    "# Create a series of letters\n",
    "letter_series = pd.Series(letters)\n",
    "letter_series"
   ]
  },
  {
   "cell_type": "code",
   "execution_count": 25,
   "id": "a6c79285-7702-4653-be45-839e7d06d58c",
   "metadata": {},
   "outputs": [
    {
     "data": {
      "text/plain": [
       "dtype('int64')"
      ]
     },
     "execution_count": 25,
     "metadata": {},
     "output_type": "execute_result"
    }
   ],
   "source": [
    "number_series.dtype"
   ]
  },
  {
   "cell_type": "code",
   "execution_count": 27,
   "id": "3b348740-91ca-465c-bfbd-60e4e90a58e3",
   "metadata": {},
   "outputs": [
    {
     "data": {
      "text/plain": [
       "dtype('O')"
      ]
     },
     "execution_count": 27,
     "metadata": {},
     "output_type": "execute_result"
    }
   ],
   "source": [
    "letter_series.dtype # Returns 'O' which represents object"
   ]
  },
  {
   "cell_type": "code",
   "execution_count": 29,
   "id": "61a8c3a2-3ee7-46e3-a913-77c4e2ab5d88",
   "metadata": {},
   "outputs": [
    {
     "data": {
      "text/plain": [
       "RangeIndex(start=0, stop=5, step=1)"
      ]
     },
     "execution_count": 29,
     "metadata": {},
     "output_type": "execute_result"
    }
   ],
   "source": [
    "number_series.index"
   ]
  },
  {
   "cell_type": "code",
   "execution_count": 30,
   "id": "0963756d-d3b1-47e0-99b2-38af45db061d",
   "metadata": {},
   "outputs": [
    {
     "data": {
      "text/plain": [
       "array(['a', 'b', 'c', 'd', 'e'], dtype=object)"
      ]
     },
     "execution_count": 30,
     "metadata": {},
     "output_type": "execute_result"
    }
   ],
   "source": [
    "letter_series.values"
   ]
  },
  {
   "cell_type": "code",
   "execution_count": 31,
   "id": "95b0e10b-ef4b-40fd-86b5-fcf7cef8b792",
   "metadata": {},
   "outputs": [
    {
     "data": {
      "text/plain": [
       "1       a\n",
       "2       1\n",
       "3    None\n",
       "dtype: object"
      ]
     },
     "execution_count": 31,
     "metadata": {},
     "output_type": "execute_result"
    }
   ],
   "source": [
    "# Create a series with NaNs\n",
    "incomplete_series = pd.Series(data=['a', 1, None], index=[1, 2, 3])\n",
    "incomplete_series"
   ]
  },
  {
   "cell_type": "code",
   "execution_count": 32,
   "id": "115f6842-51dc-4860-8b2e-ccbf5c5bb791",
   "metadata": {},
   "outputs": [
    {
     "data": {
      "text/plain": [
       "True"
      ]
     },
     "execution_count": 32,
     "metadata": {},
     "output_type": "execute_result"
    }
   ],
   "source": [
    "incomplete_series.hasnans"
   ]
  },
  {
   "cell_type": "code",
   "execution_count": 33,
   "id": "4d78472a-bf1e-44a2-8457-472950ee3b23",
   "metadata": {},
   "outputs": [
    {
     "data": {
      "text/plain": [
       "(5,)"
      ]
     },
     "execution_count": 33,
     "metadata": {},
     "output_type": "execute_result"
    }
   ],
   "source": [
    "number_series.shape"
   ]
  },
  {
   "cell_type": "code",
   "execution_count": 35,
   "id": "c72d285e-d58d-44b0-864c-a61dcc51f6a4",
   "metadata": {},
   "outputs": [
    {
     "data": {
      "text/plain": [
       "3"
      ]
     },
     "execution_count": 35,
     "metadata": {},
     "output_type": "execute_result"
    }
   ],
   "source": [
    "incomplete_series.size"
   ]
  },
  {
   "cell_type": "markdown",
   "id": "73d82b55-857f-4b21-9d29-98a3b5fc0160",
   "metadata": {},
   "source": [
    "## Methods\n",
    "\n",
    "+ .max() - Returns the max of the values\n",
    "+ .min() - Returns the min of the values\n",
    "+ .sum() - Returns the sum of the values\n",
    "+ .mean() - Returns the mean of the values\n",
    "+ .median() - Returns the median of the values\n",
    "+ .mode() Return the mode of the values\n",
    "+ .idxmax() - Returns the index of the max value\n",
    "+ .idxmin() - Returns the index of the min value\n",
    "+ .isnull() - Returns a series that checks whether each value is null or not\n",
    "+ .round() - Round each value to the nearest integer value"
   ]
  },
  {
   "cell_type": "code",
   "execution_count": 52,
   "id": "031976fd-f227-4d04-a708-06f26e36d36d",
   "metadata": {},
   "outputs": [],
   "source": [
    "new_series = pd.Series(data=[1.0, 2.2, 3.3, None, 4.6111, 8.2464, 1.0, 2.2, 4.1, 2.2])"
   ]
  },
  {
   "cell_type": "code",
   "execution_count": 53,
   "id": "4df446b6-f548-4e16-9c96-dd1dac1b7fec",
   "metadata": {},
   "outputs": [
    {
     "data": {
      "text/plain": [
       "8.2464"
      ]
     },
     "execution_count": 53,
     "metadata": {},
     "output_type": "execute_result"
    }
   ],
   "source": [
    "new_series.max()"
   ]
  },
  {
   "cell_type": "code",
   "execution_count": 54,
   "id": "844aa890-b5da-4099-a883-78e697574064",
   "metadata": {},
   "outputs": [
    {
     "data": {
      "text/plain": [
       "1.0"
      ]
     },
     "execution_count": 54,
     "metadata": {},
     "output_type": "execute_result"
    }
   ],
   "source": [
    "new_series.min()"
   ]
  },
  {
   "cell_type": "code",
   "execution_count": 55,
   "id": "523e93f1-c786-4ce9-9012-7cd32082b04d",
   "metadata": {},
   "outputs": [
    {
     "data": {
      "text/plain": [
       "28.857499999999998"
      ]
     },
     "execution_count": 55,
     "metadata": {},
     "output_type": "execute_result"
    }
   ],
   "source": [
    "new_series.sum()"
   ]
  },
  {
   "cell_type": "code",
   "execution_count": 56,
   "id": "e97e78b8-6cf2-410e-b7ad-640da8eb1966",
   "metadata": {},
   "outputs": [
    {
     "data": {
      "text/plain": [
       "3.2063888888888887"
      ]
     },
     "execution_count": 56,
     "metadata": {},
     "output_type": "execute_result"
    }
   ],
   "source": [
    "new_series.mean()"
   ]
  },
  {
   "cell_type": "code",
   "execution_count": 57,
   "id": "ac3768ac-8295-4ee2-a7a2-33d733fcea89",
   "metadata": {},
   "outputs": [
    {
     "data": {
      "text/plain": [
       "2.2"
      ]
     },
     "execution_count": 57,
     "metadata": {},
     "output_type": "execute_result"
    }
   ],
   "source": [
    "new_series.median()"
   ]
  },
  {
   "cell_type": "code",
   "execution_count": 58,
   "id": "38578a38-78e1-4452-8d01-ced316915aa0",
   "metadata": {},
   "outputs": [
    {
     "data": {
      "text/plain": [
       "0    2.2\n",
       "dtype: float64"
      ]
     },
     "execution_count": 58,
     "metadata": {},
     "output_type": "execute_result"
    }
   ],
   "source": [
    "new_series.mode()"
   ]
  },
  {
   "cell_type": "code",
   "execution_count": 59,
   "id": "be697ea3-d078-41bb-8454-7ed209bea79c",
   "metadata": {},
   "outputs": [
    {
     "data": {
      "text/plain": [
       "5"
      ]
     },
     "execution_count": 59,
     "metadata": {},
     "output_type": "execute_result"
    }
   ],
   "source": [
    "new_series.idxmax()"
   ]
  },
  {
   "cell_type": "code",
   "execution_count": 60,
   "id": "d7fe84ec-b9a0-4612-b512-0fbf71892653",
   "metadata": {},
   "outputs": [
    {
     "data": {
      "text/plain": [
       "0"
      ]
     },
     "execution_count": 60,
     "metadata": {},
     "output_type": "execute_result"
    }
   ],
   "source": [
    "new_series.idxmin()"
   ]
  },
  {
   "cell_type": "code",
   "execution_count": 50,
   "id": "600bab07-e6a2-4efc-83ad-21094d0e508b",
   "metadata": {},
   "outputs": [
    {
     "data": {
      "text/plain": [
       "0    False\n",
       "1    False\n",
       "2    False\n",
       "3     True\n",
       "4    False\n",
       "5    False\n",
       "6    False\n",
       "7    False\n",
       "8    False\n",
       "9    False\n",
       "dtype: bool"
      ]
     },
     "execution_count": 50,
     "metadata": {},
     "output_type": "execute_result"
    }
   ],
   "source": [
    "new_series.isnull()"
   ]
  },
  {
   "cell_type": "code",
   "execution_count": 61,
   "id": "50670eca-017f-4158-b2ab-7024cb07e92d",
   "metadata": {},
   "outputs": [
    {
     "data": {
      "text/plain": [
       "0    1.0\n",
       "1    2.0\n",
       "2    3.0\n",
       "3    NaN\n",
       "4    5.0\n",
       "5    8.0\n",
       "6    1.0\n",
       "7    2.0\n",
       "8    4.0\n",
       "9    2.0\n",
       "dtype: float64"
      ]
     },
     "execution_count": 61,
     "metadata": {},
     "output_type": "execute_result"
    }
   ],
   "source": [
    "new_series.round()"
   ]
  },
  {
   "cell_type": "code",
   "execution_count": 63,
   "id": "b8e7a833-dd41-4816-8e6c-96dd85865299",
   "metadata": {},
   "outputs": [
    {
     "data": {
      "text/plain": [
       "0    1.000\n",
       "1    2.200\n",
       "2    3.300\n",
       "3      NaN\n",
       "4    4.611\n",
       "5    8.246\n",
       "6    1.000\n",
       "7    2.200\n",
       "8    4.100\n",
       "9    2.200\n",
       "dtype: float64"
      ]
     },
     "execution_count": 63,
     "metadata": {},
     "output_type": "execute_result"
    }
   ],
   "source": [
    "# Round to three decimal places\n",
    "new_series.round(3)"
   ]
  },
  {
   "cell_type": "markdown",
   "id": "24436e09-235a-4e10-9df7-bfdaa47e4e43",
   "metadata": {},
   "source": [
    "## Handle CSV Files"
   ]
  },
  {
   "cell_type": "code",
   "execution_count": 68,
   "id": "dd99d564-a560-4b2d-96fd-f8fb0ee0cc74",
   "metadata": {},
   "outputs": [
    {
     "data": {
      "text/plain": [
       "0                     Elon Musk\n",
       "1                    Jeff Bezos\n",
       "2      Bernard Arnault & family\n",
       "3                    Bill Gates\n",
       "4                Warren Buffett\n",
       "                 ...           \n",
       "96             Vladimir Potanin\n",
       "97         Harold Hamm & family\n",
       "98                 Sun Piaoyang\n",
       "99           Luo Liguo & family\n",
       "100                   Peter Woo\n",
       "Name: Name, Length: 101, dtype: object"
      ]
     },
     "execution_count": 68,
     "metadata": {},
     "output_type": "execute_result"
    }
   ],
   "source": [
    "# Read a CSV file and squeeze the columns into a series\n",
    "# .squeeze converts the dataframe into a series\n",
    "richest_persons = pd.read_csv('TopRichestInWorld.csv', usecols=['Name']).squeeze()\n",
    "richest_persons"
   ]
  },
  {
   "cell_type": "code",
   "execution_count": 69,
   "id": "ef0395dd-1360-41e6-9bcc-911350cd12f7",
   "metadata": {},
   "outputs": [
    {
     "data": {
      "text/plain": [
       "pandas.core.series.Series"
      ]
     },
     "execution_count": 69,
     "metadata": {},
     "output_type": "execute_result"
    }
   ],
   "source": [
    "# Check the type of richest_persons\n",
    "type(richest_persons)"
   ]
  },
  {
   "cell_type": "code",
   "execution_count": 71,
   "id": "30a0ed62-b233-4477-9dbf-7fd1bbeb179b",
   "metadata": {},
   "outputs": [],
   "source": [
    "# Create a csv file (this will be placed in the current folder)\n",
    "richest_persons.to_csv('test.csv', index=False) # Set to False to avoid extra index"
   ]
  },
  {
   "cell_type": "code",
   "execution_count": 72,
   "id": "28936942-b8b3-47d8-a8e5-619c9dbd5001",
   "metadata": {},
   "outputs": [
    {
     "data": {
      "text/html": [
       "<div>\n",
       "<style scoped>\n",
       "    .dataframe tbody tr th:only-of-type {\n",
       "        vertical-align: middle;\n",
       "    }\n",
       "\n",
       "    .dataframe tbody tr th {\n",
       "        vertical-align: top;\n",
       "    }\n",
       "\n",
       "    .dataframe thead th {\n",
       "        text-align: right;\n",
       "    }\n",
       "</style>\n",
       "<table border=\"1\" class=\"dataframe\">\n",
       "  <thead>\n",
       "    <tr style=\"text-align: right;\">\n",
       "      <th></th>\n",
       "      <th>Name</th>\n",
       "    </tr>\n",
       "  </thead>\n",
       "  <tbody>\n",
       "    <tr>\n",
       "      <th>0</th>\n",
       "      <td>Elon Musk</td>\n",
       "    </tr>\n",
       "    <tr>\n",
       "      <th>1</th>\n",
       "      <td>Jeff Bezos</td>\n",
       "    </tr>\n",
       "    <tr>\n",
       "      <th>2</th>\n",
       "      <td>Bernard Arnault &amp; family</td>\n",
       "    </tr>\n",
       "    <tr>\n",
       "      <th>3</th>\n",
       "      <td>Bill Gates</td>\n",
       "    </tr>\n",
       "    <tr>\n",
       "      <th>4</th>\n",
       "      <td>Warren Buffett</td>\n",
       "    </tr>\n",
       "    <tr>\n",
       "      <th>...</th>\n",
       "      <td>...</td>\n",
       "    </tr>\n",
       "    <tr>\n",
       "      <th>96</th>\n",
       "      <td>Vladimir Potanin</td>\n",
       "    </tr>\n",
       "    <tr>\n",
       "      <th>97</th>\n",
       "      <td>Harold Hamm &amp; family</td>\n",
       "    </tr>\n",
       "    <tr>\n",
       "      <th>98</th>\n",
       "      <td>Sun Piaoyang</td>\n",
       "    </tr>\n",
       "    <tr>\n",
       "      <th>99</th>\n",
       "      <td>Luo Liguo &amp; family</td>\n",
       "    </tr>\n",
       "    <tr>\n",
       "      <th>100</th>\n",
       "      <td>Peter Woo</td>\n",
       "    </tr>\n",
       "  </tbody>\n",
       "</table>\n",
       "<p>101 rows × 1 columns</p>\n",
       "</div>"
      ],
      "text/plain": [
       "                         Name\n",
       "0                   Elon Musk\n",
       "1                  Jeff Bezos\n",
       "2    Bernard Arnault & family\n",
       "3                  Bill Gates\n",
       "4              Warren Buffett\n",
       "..                        ...\n",
       "96           Vladimir Potanin\n",
       "97       Harold Hamm & family\n",
       "98               Sun Piaoyang\n",
       "99         Luo Liguo & family\n",
       "100                 Peter Woo\n",
       "\n",
       "[101 rows x 1 columns]"
      ]
     },
     "execution_count": 72,
     "metadata": {},
     "output_type": "execute_result"
    }
   ],
   "source": [
    "pd.read_csv('test.csv')"
   ]
  },
  {
   "cell_type": "code",
   "execution_count": 81,
   "id": "662097df-bf78-4f55-a788-6308fb00ec7d",
   "metadata": {},
   "outputs": [],
   "source": [
    "richest = pd.read_csv('test.csv').squeeze()"
   ]
  },
  {
   "cell_type": "code",
   "execution_count": 82,
   "id": "0d2a35b5-35c7-49ed-a240-ebe605b7f7cc",
   "metadata": {},
   "outputs": [
    {
     "data": {
      "text/plain": [
       "0                     Elon Musk\n",
       "1                    Jeff Bezos\n",
       "2      Bernard Arnault & family\n",
       "3                    Bill Gates\n",
       "4                Warren Buffett\n",
       "                 ...           \n",
       "96             Vladimir Potanin\n",
       "97         Harold Hamm & family\n",
       "98                 Sun Piaoyang\n",
       "99           Luo Liguo & family\n",
       "100                   Peter Woo\n",
       "Name: Name, Length: 101, dtype: object"
      ]
     },
     "execution_count": 82,
     "metadata": {},
     "output_type": "execute_result"
    }
   ],
   "source": [
    "richest"
   ]
  },
  {
   "cell_type": "markdown",
   "id": "61461e54-7ff9-4156-973f-dc48ab0d4afa",
   "metadata": {},
   "source": [
    "+ .head() - Returns the top 5 rows\n",
    "+ .tail() - Returns the last 5 rows"
   ]
  },
  {
   "cell_type": "code",
   "execution_count": 83,
   "id": "7829a9fd-0e4c-4b94-803d-0830a504504e",
   "metadata": {},
   "outputs": [],
   "source": [
    "dataframe = pd.read_csv('TopRichestInWorld.csv')"
   ]
  },
  {
   "cell_type": "code",
   "execution_count": 84,
   "id": "c05c7da1-0cd0-4d8a-9a04-691c7a19f7b4",
   "metadata": {},
   "outputs": [
    {
     "data": {
      "text/html": [
       "<div>\n",
       "<style scoped>\n",
       "    .dataframe tbody tr th:only-of-type {\n",
       "        vertical-align: middle;\n",
       "    }\n",
       "\n",
       "    .dataframe tbody tr th {\n",
       "        vertical-align: top;\n",
       "    }\n",
       "\n",
       "    .dataframe thead th {\n",
       "        text-align: right;\n",
       "    }\n",
       "</style>\n",
       "<table border=\"1\" class=\"dataframe\">\n",
       "  <thead>\n",
       "    <tr style=\"text-align: right;\">\n",
       "      <th></th>\n",
       "      <th>Name</th>\n",
       "      <th>NetWorth</th>\n",
       "      <th>Age</th>\n",
       "      <th>Country/Territory</th>\n",
       "      <th>Source</th>\n",
       "      <th>Industry</th>\n",
       "    </tr>\n",
       "  </thead>\n",
       "  <tbody>\n",
       "    <tr>\n",
       "      <th>0</th>\n",
       "      <td>Elon Musk</td>\n",
       "      <td>$219,000,000,000</td>\n",
       "      <td>50</td>\n",
       "      <td>United States</td>\n",
       "      <td>Tesla, SpaceX</td>\n",
       "      <td>Automotive</td>\n",
       "    </tr>\n",
       "    <tr>\n",
       "      <th>1</th>\n",
       "      <td>Jeff Bezos</td>\n",
       "      <td>$171,000,000,000</td>\n",
       "      <td>58</td>\n",
       "      <td>United States</td>\n",
       "      <td>Amazon</td>\n",
       "      <td>Technology</td>\n",
       "    </tr>\n",
       "    <tr>\n",
       "      <th>2</th>\n",
       "      <td>Bernard Arnault &amp; family</td>\n",
       "      <td>$158,000,000,000</td>\n",
       "      <td>73</td>\n",
       "      <td>France</td>\n",
       "      <td>LVMH</td>\n",
       "      <td>Fashion &amp; Retail</td>\n",
       "    </tr>\n",
       "    <tr>\n",
       "      <th>3</th>\n",
       "      <td>Bill Gates</td>\n",
       "      <td>$129,000,000,000</td>\n",
       "      <td>66</td>\n",
       "      <td>United States</td>\n",
       "      <td>Microsoft</td>\n",
       "      <td>Technology</td>\n",
       "    </tr>\n",
       "    <tr>\n",
       "      <th>4</th>\n",
       "      <td>Warren Buffett</td>\n",
       "      <td>$118,000,000,000</td>\n",
       "      <td>91</td>\n",
       "      <td>United States</td>\n",
       "      <td>Berkshire Hathaway</td>\n",
       "      <td>Finance &amp; Investments</td>\n",
       "    </tr>\n",
       "  </tbody>\n",
       "</table>\n",
       "</div>"
      ],
      "text/plain": [
       "                       Name          NetWorth  Age Country/Territory  \\\n",
       "0                 Elon Musk  $219,000,000,000   50     United States   \n",
       "1                Jeff Bezos  $171,000,000,000   58     United States   \n",
       "2  Bernard Arnault & family  $158,000,000,000   73            France   \n",
       "3                Bill Gates  $129,000,000,000   66     United States   \n",
       "4            Warren Buffett  $118,000,000,000   91     United States   \n",
       "\n",
       "               Source               Industry  \n",
       "0       Tesla, SpaceX             Automotive  \n",
       "1              Amazon             Technology  \n",
       "2                LVMH       Fashion & Retail  \n",
       "3           Microsoft             Technology  \n",
       "4  Berkshire Hathaway  Finance & Investments  "
      ]
     },
     "execution_count": 84,
     "metadata": {},
     "output_type": "execute_result"
    }
   ],
   "source": [
    "dataframe.head() # Returns the top 5 rows"
   ]
  },
  {
   "cell_type": "code",
   "execution_count": 85,
   "id": "f825bfc3-4951-4132-a306-5c195ba56147",
   "metadata": {},
   "outputs": [
    {
     "data": {
      "text/html": [
       "<div>\n",
       "<style scoped>\n",
       "    .dataframe tbody tr th:only-of-type {\n",
       "        vertical-align: middle;\n",
       "    }\n",
       "\n",
       "    .dataframe tbody tr th {\n",
       "        vertical-align: top;\n",
       "    }\n",
       "\n",
       "    .dataframe thead th {\n",
       "        text-align: right;\n",
       "    }\n",
       "</style>\n",
       "<table border=\"1\" class=\"dataframe\">\n",
       "  <thead>\n",
       "    <tr style=\"text-align: right;\">\n",
       "      <th></th>\n",
       "      <th>Name</th>\n",
       "      <th>NetWorth</th>\n",
       "      <th>Age</th>\n",
       "      <th>Country/Territory</th>\n",
       "      <th>Source</th>\n",
       "      <th>Industry</th>\n",
       "    </tr>\n",
       "  </thead>\n",
       "  <tbody>\n",
       "    <tr>\n",
       "      <th>0</th>\n",
       "      <td>Elon Musk</td>\n",
       "      <td>$219,000,000,000</td>\n",
       "      <td>50</td>\n",
       "      <td>United States</td>\n",
       "      <td>Tesla, SpaceX</td>\n",
       "      <td>Automotive</td>\n",
       "    </tr>\n",
       "    <tr>\n",
       "      <th>1</th>\n",
       "      <td>Jeff Bezos</td>\n",
       "      <td>$171,000,000,000</td>\n",
       "      <td>58</td>\n",
       "      <td>United States</td>\n",
       "      <td>Amazon</td>\n",
       "      <td>Technology</td>\n",
       "    </tr>\n",
       "    <tr>\n",
       "      <th>2</th>\n",
       "      <td>Bernard Arnault &amp; family</td>\n",
       "      <td>$158,000,000,000</td>\n",
       "      <td>73</td>\n",
       "      <td>France</td>\n",
       "      <td>LVMH</td>\n",
       "      <td>Fashion &amp; Retail</td>\n",
       "    </tr>\n",
       "    <tr>\n",
       "      <th>3</th>\n",
       "      <td>Bill Gates</td>\n",
       "      <td>$129,000,000,000</td>\n",
       "      <td>66</td>\n",
       "      <td>United States</td>\n",
       "      <td>Microsoft</td>\n",
       "      <td>Technology</td>\n",
       "    </tr>\n",
       "    <tr>\n",
       "      <th>4</th>\n",
       "      <td>Warren Buffett</td>\n",
       "      <td>$118,000,000,000</td>\n",
       "      <td>91</td>\n",
       "      <td>United States</td>\n",
       "      <td>Berkshire Hathaway</td>\n",
       "      <td>Finance &amp; Investments</td>\n",
       "    </tr>\n",
       "    <tr>\n",
       "      <th>5</th>\n",
       "      <td>Larry Page</td>\n",
       "      <td>$111,000,000,000</td>\n",
       "      <td>49</td>\n",
       "      <td>United States</td>\n",
       "      <td>Google</td>\n",
       "      <td>Technology</td>\n",
       "    </tr>\n",
       "    <tr>\n",
       "      <th>6</th>\n",
       "      <td>Sergey Brin</td>\n",
       "      <td>$107,000,000,000</td>\n",
       "      <td>48</td>\n",
       "      <td>United States</td>\n",
       "      <td>Google</td>\n",
       "      <td>Technology</td>\n",
       "    </tr>\n",
       "    <tr>\n",
       "      <th>7</th>\n",
       "      <td>Larry Ellison</td>\n",
       "      <td>$106,000,000,000</td>\n",
       "      <td>77</td>\n",
       "      <td>United States</td>\n",
       "      <td>software</td>\n",
       "      <td>Technology</td>\n",
       "    </tr>\n",
       "    <tr>\n",
       "      <th>8</th>\n",
       "      <td>Steve Ballmer</td>\n",
       "      <td>$91,400,000,000</td>\n",
       "      <td>66</td>\n",
       "      <td>United States</td>\n",
       "      <td>Microsoft</td>\n",
       "      <td>Technology</td>\n",
       "    </tr>\n",
       "    <tr>\n",
       "      <th>9</th>\n",
       "      <td>Mukesh Ambani</td>\n",
       "      <td>$90,700,000,000</td>\n",
       "      <td>64</td>\n",
       "      <td>India</td>\n",
       "      <td>diversified</td>\n",
       "      <td>Diversified</td>\n",
       "    </tr>\n",
       "  </tbody>\n",
       "</table>\n",
       "</div>"
      ],
      "text/plain": [
       "                       Name          NetWorth  Age Country/Territory  \\\n",
       "0                 Elon Musk  $219,000,000,000   50     United States   \n",
       "1                Jeff Bezos  $171,000,000,000   58     United States   \n",
       "2  Bernard Arnault & family  $158,000,000,000   73            France   \n",
       "3                Bill Gates  $129,000,000,000   66     United States   \n",
       "4            Warren Buffett  $118,000,000,000   91     United States   \n",
       "5                Larry Page  $111,000,000,000   49     United States   \n",
       "6               Sergey Brin  $107,000,000,000   48     United States   \n",
       "7             Larry Ellison  $106,000,000,000   77     United States   \n",
       "8             Steve Ballmer   $91,400,000,000   66     United States   \n",
       "9             Mukesh Ambani   $90,700,000,000   64             India   \n",
       "\n",
       "               Source               Industry  \n",
       "0       Tesla, SpaceX             Automotive  \n",
       "1              Amazon             Technology  \n",
       "2                LVMH       Fashion & Retail  \n",
       "3           Microsoft             Technology  \n",
       "4  Berkshire Hathaway  Finance & Investments  \n",
       "5              Google             Technology  \n",
       "6              Google             Technology  \n",
       "7            software             Technology  \n",
       "8           Microsoft             Technology  \n",
       "9         diversified            Diversified  "
      ]
     },
     "execution_count": 85,
     "metadata": {},
     "output_type": "execute_result"
    }
   ],
   "source": [
    "dataframe.head(10) # Returns the top 10 rows"
   ]
  },
  {
   "cell_type": "code",
   "execution_count": 87,
   "id": "72d83486-6524-4dab-9f39-3a614339eb8e",
   "metadata": {},
   "outputs": [
    {
     "data": {
      "text/html": [
       "<div>\n",
       "<style scoped>\n",
       "    .dataframe tbody tr th:only-of-type {\n",
       "        vertical-align: middle;\n",
       "    }\n",
       "\n",
       "    .dataframe tbody tr th {\n",
       "        vertical-align: top;\n",
       "    }\n",
       "\n",
       "    .dataframe thead th {\n",
       "        text-align: right;\n",
       "    }\n",
       "</style>\n",
       "<table border=\"1\" class=\"dataframe\">\n",
       "  <thead>\n",
       "    <tr style=\"text-align: right;\">\n",
       "      <th></th>\n",
       "      <th>Name</th>\n",
       "      <th>NetWorth</th>\n",
       "      <th>Age</th>\n",
       "      <th>Country/Territory</th>\n",
       "      <th>Source</th>\n",
       "      <th>Industry</th>\n",
       "    </tr>\n",
       "  </thead>\n",
       "  <tbody>\n",
       "    <tr>\n",
       "      <th>0</th>\n",
       "      <td>Elon Musk</td>\n",
       "      <td>$219,000,000,000</td>\n",
       "      <td>50</td>\n",
       "      <td>United States</td>\n",
       "      <td>Tesla, SpaceX</td>\n",
       "      <td>Automotive</td>\n",
       "    </tr>\n",
       "    <tr>\n",
       "      <th>1</th>\n",
       "      <td>Jeff Bezos</td>\n",
       "      <td>$171,000,000,000</td>\n",
       "      <td>58</td>\n",
       "      <td>United States</td>\n",
       "      <td>Amazon</td>\n",
       "      <td>Technology</td>\n",
       "    </tr>\n",
       "    <tr>\n",
       "      <th>2</th>\n",
       "      <td>Bernard Arnault &amp; family</td>\n",
       "      <td>$158,000,000,000</td>\n",
       "      <td>73</td>\n",
       "      <td>France</td>\n",
       "      <td>LVMH</td>\n",
       "      <td>Fashion &amp; Retail</td>\n",
       "    </tr>\n",
       "    <tr>\n",
       "      <th>3</th>\n",
       "      <td>Bill Gates</td>\n",
       "      <td>$129,000,000,000</td>\n",
       "      <td>66</td>\n",
       "      <td>United States</td>\n",
       "      <td>Microsoft</td>\n",
       "      <td>Technology</td>\n",
       "    </tr>\n",
       "    <tr>\n",
       "      <th>4</th>\n",
       "      <td>Warren Buffett</td>\n",
       "      <td>$118,000,000,000</td>\n",
       "      <td>91</td>\n",
       "      <td>United States</td>\n",
       "      <td>Berkshire Hathaway</td>\n",
       "      <td>Finance &amp; Investments</td>\n",
       "    </tr>\n",
       "    <tr>\n",
       "      <th>...</th>\n",
       "      <td>...</td>\n",
       "      <td>...</td>\n",
       "      <td>...</td>\n",
       "      <td>...</td>\n",
       "      <td>...</td>\n",
       "      <td>...</td>\n",
       "    </tr>\n",
       "    <tr>\n",
       "      <th>86</th>\n",
       "      <td>Vladimir Lisin</td>\n",
       "      <td>$18,400,000,000</td>\n",
       "      <td>65</td>\n",
       "      <td>Russia</td>\n",
       "      <td>steel, transport</td>\n",
       "      <td>Metals &amp; Mining</td>\n",
       "    </tr>\n",
       "    <tr>\n",
       "      <th>87</th>\n",
       "      <td>Fan Hongwei &amp; family</td>\n",
       "      <td>$18,200,000,000</td>\n",
       "      <td>55</td>\n",
       "      <td>China</td>\n",
       "      <td>petrochemicals</td>\n",
       "      <td>Energy</td>\n",
       "    </tr>\n",
       "    <tr>\n",
       "      <th>88</th>\n",
       "      <td>Lakshmi Mittal</td>\n",
       "      <td>$17,900,000,000</td>\n",
       "      <td>71</td>\n",
       "      <td>India</td>\n",
       "      <td>steel</td>\n",
       "      <td>Metals &amp; Mining</td>\n",
       "    </tr>\n",
       "    <tr>\n",
       "      <th>89</th>\n",
       "      <td>Andrew Forrest</td>\n",
       "      <td>$17,800,000,000</td>\n",
       "      <td>60</td>\n",
       "      <td>Australia</td>\n",
       "      <td>mining</td>\n",
       "      <td>Metals &amp; Mining</td>\n",
       "    </tr>\n",
       "    <tr>\n",
       "      <th>90</th>\n",
       "      <td>Jiang Rensheng &amp; family</td>\n",
       "      <td>$17,700,000,000</td>\n",
       "      <td>68</td>\n",
       "      <td>China</td>\n",
       "      <td>vaccines</td>\n",
       "      <td>Healthcare</td>\n",
       "    </tr>\n",
       "  </tbody>\n",
       "</table>\n",
       "<p>91 rows × 6 columns</p>\n",
       "</div>"
      ],
      "text/plain": [
       "                        Name          NetWorth  Age Country/Territory  \\\n",
       "0                  Elon Musk  $219,000,000,000   50     United States   \n",
       "1                 Jeff Bezos  $171,000,000,000   58     United States   \n",
       "2   Bernard Arnault & family  $158,000,000,000   73            France   \n",
       "3                 Bill Gates  $129,000,000,000   66     United States   \n",
       "4             Warren Buffett  $118,000,000,000   91     United States   \n",
       "..                       ...               ...  ...               ...   \n",
       "86            Vladimir Lisin   $18,400,000,000   65            Russia   \n",
       "87      Fan Hongwei & family   $18,200,000,000   55             China   \n",
       "88            Lakshmi Mittal   $17,900,000,000   71             India   \n",
       "89            Andrew Forrest   $17,800,000,000   60         Australia   \n",
       "90   Jiang Rensheng & family   $17,700,000,000   68             China   \n",
       "\n",
       "                Source               Industry  \n",
       "0        Tesla, SpaceX             Automotive  \n",
       "1               Amazon             Technology  \n",
       "2                 LVMH       Fashion & Retail  \n",
       "3            Microsoft             Technology  \n",
       "4   Berkshire Hathaway  Finance & Investments  \n",
       "..                 ...                    ...  \n",
       "86    steel, transport        Metals & Mining  \n",
       "87      petrochemicals                 Energy  \n",
       "88               steel        Metals & Mining  \n",
       "89              mining        Metals & Mining  \n",
       "90            vaccines             Healthcare  \n",
       "\n",
       "[91 rows x 6 columns]"
      ]
     },
     "execution_count": 87,
     "metadata": {},
     "output_type": "execute_result"
    }
   ],
   "source": [
    "dataframe.head(-10) # Returns all rows, excluding last 10 rows"
   ]
  },
  {
   "cell_type": "code",
   "execution_count": 88,
   "id": "ce1ab2cf-1f6b-4f4a-b1b2-886993b6f1fe",
   "metadata": {},
   "outputs": [
    {
     "data": {
      "text/html": [
       "<div>\n",
       "<style scoped>\n",
       "    .dataframe tbody tr th:only-of-type {\n",
       "        vertical-align: middle;\n",
       "    }\n",
       "\n",
       "    .dataframe tbody tr th {\n",
       "        vertical-align: top;\n",
       "    }\n",
       "\n",
       "    .dataframe thead th {\n",
       "        text-align: right;\n",
       "    }\n",
       "</style>\n",
       "<table border=\"1\" class=\"dataframe\">\n",
       "  <thead>\n",
       "    <tr style=\"text-align: right;\">\n",
       "      <th></th>\n",
       "      <th>Name</th>\n",
       "      <th>NetWorth</th>\n",
       "      <th>Age</th>\n",
       "      <th>Country/Territory</th>\n",
       "      <th>Source</th>\n",
       "      <th>Industry</th>\n",
       "    </tr>\n",
       "  </thead>\n",
       "  <tbody>\n",
       "    <tr>\n",
       "      <th>96</th>\n",
       "      <td>Vladimir Potanin</td>\n",
       "      <td>$17,300,000,000</td>\n",
       "      <td>61</td>\n",
       "      <td>Russia</td>\n",
       "      <td>metals</td>\n",
       "      <td>Metals &amp; Mining</td>\n",
       "    </tr>\n",
       "    <tr>\n",
       "      <th>97</th>\n",
       "      <td>Harold Hamm &amp; family</td>\n",
       "      <td>$17,200,000,000</td>\n",
       "      <td>76</td>\n",
       "      <td>United States</td>\n",
       "      <td>oil &amp; gas</td>\n",
       "      <td>Energy</td>\n",
       "    </tr>\n",
       "    <tr>\n",
       "      <th>98</th>\n",
       "      <td>Sun Piaoyang</td>\n",
       "      <td>$17,100,000,000</td>\n",
       "      <td>63</td>\n",
       "      <td>China</td>\n",
       "      <td>pharmaceuticals</td>\n",
       "      <td>Healthcare</td>\n",
       "    </tr>\n",
       "    <tr>\n",
       "      <th>99</th>\n",
       "      <td>Luo Liguo &amp; family</td>\n",
       "      <td>$17,000,000,000</td>\n",
       "      <td>66</td>\n",
       "      <td>China</td>\n",
       "      <td>chemicals</td>\n",
       "      <td>Manufacturing</td>\n",
       "    </tr>\n",
       "    <tr>\n",
       "      <th>100</th>\n",
       "      <td>Peter Woo</td>\n",
       "      <td>$17,000,000,000</td>\n",
       "      <td>75</td>\n",
       "      <td>Hong Kong</td>\n",
       "      <td>real estate</td>\n",
       "      <td>Real Estate</td>\n",
       "    </tr>\n",
       "  </tbody>\n",
       "</table>\n",
       "</div>"
      ],
      "text/plain": [
       "                     Name         NetWorth  Age Country/Territory  \\\n",
       "96       Vladimir Potanin  $17,300,000,000   61            Russia   \n",
       "97   Harold Hamm & family  $17,200,000,000   76     United States   \n",
       "98           Sun Piaoyang  $17,100,000,000   63             China   \n",
       "99     Luo Liguo & family  $17,000,000,000   66             China   \n",
       "100             Peter Woo  $17,000,000,000   75         Hong Kong   \n",
       "\n",
       "              Source         Industry  \n",
       "96            metals  Metals & Mining  \n",
       "97         oil & gas           Energy  \n",
       "98   pharmaceuticals       Healthcare  \n",
       "99         chemicals    Manufacturing  \n",
       "100      real estate      Real Estate  "
      ]
     },
     "execution_count": 88,
     "metadata": {},
     "output_type": "execute_result"
    }
   ],
   "source": [
    "dataframe.tail() # Returns the last 5 rows"
   ]
  },
  {
   "cell_type": "code",
   "execution_count": 90,
   "id": "05d24f77-e62f-4d93-8e5c-200ab9d7194c",
   "metadata": {},
   "outputs": [
    {
     "data": {
      "text/html": [
       "<div>\n",
       "<style scoped>\n",
       "    .dataframe tbody tr th:only-of-type {\n",
       "        vertical-align: middle;\n",
       "    }\n",
       "\n",
       "    .dataframe tbody tr th {\n",
       "        vertical-align: top;\n",
       "    }\n",
       "\n",
       "    .dataframe thead th {\n",
       "        text-align: right;\n",
       "    }\n",
       "</style>\n",
       "<table border=\"1\" class=\"dataframe\">\n",
       "  <thead>\n",
       "    <tr style=\"text-align: right;\">\n",
       "      <th></th>\n",
       "      <th>Name</th>\n",
       "      <th>NetWorth</th>\n",
       "      <th>Age</th>\n",
       "      <th>Country/Territory</th>\n",
       "      <th>Source</th>\n",
       "      <th>Industry</th>\n",
       "    </tr>\n",
       "  </thead>\n",
       "  <tbody>\n",
       "    <tr>\n",
       "      <th>91</th>\n",
       "      <td>Savitri Jindal &amp; family</td>\n",
       "      <td>$17,700,000,000</td>\n",
       "      <td>72</td>\n",
       "      <td>India</td>\n",
       "      <td>steel</td>\n",
       "      <td>Metals &amp; Mining</td>\n",
       "    </tr>\n",
       "    <tr>\n",
       "      <th>92</th>\n",
       "      <td>Wang Wenyin</td>\n",
       "      <td>$17,700,000,000</td>\n",
       "      <td>54</td>\n",
       "      <td>China</td>\n",
       "      <td>mining, copper products</td>\n",
       "      <td>Metals &amp; Mining</td>\n",
       "    </tr>\n",
       "    <tr>\n",
       "      <th>93</th>\n",
       "      <td>Li Xiting</td>\n",
       "      <td>$17,600,000,000</td>\n",
       "      <td>71</td>\n",
       "      <td>Singapore</td>\n",
       "      <td>medical devices</td>\n",
       "      <td>Healthcare</td>\n",
       "    </tr>\n",
       "    <tr>\n",
       "      <th>94</th>\n",
       "      <td>Stefan Persson</td>\n",
       "      <td>$17,600,000,000</td>\n",
       "      <td>74</td>\n",
       "      <td>Sweden</td>\n",
       "      <td>H&amp;M</td>\n",
       "      <td>Fashion &amp; Retail</td>\n",
       "    </tr>\n",
       "    <tr>\n",
       "      <th>95</th>\n",
       "      <td>Steve Cohen</td>\n",
       "      <td>$17,400,000,000</td>\n",
       "      <td>65</td>\n",
       "      <td>United States</td>\n",
       "      <td>hedge funds</td>\n",
       "      <td>Finance &amp; Investments</td>\n",
       "    </tr>\n",
       "    <tr>\n",
       "      <th>96</th>\n",
       "      <td>Vladimir Potanin</td>\n",
       "      <td>$17,300,000,000</td>\n",
       "      <td>61</td>\n",
       "      <td>Russia</td>\n",
       "      <td>metals</td>\n",
       "      <td>Metals &amp; Mining</td>\n",
       "    </tr>\n",
       "    <tr>\n",
       "      <th>97</th>\n",
       "      <td>Harold Hamm &amp; family</td>\n",
       "      <td>$17,200,000,000</td>\n",
       "      <td>76</td>\n",
       "      <td>United States</td>\n",
       "      <td>oil &amp; gas</td>\n",
       "      <td>Energy</td>\n",
       "    </tr>\n",
       "    <tr>\n",
       "      <th>98</th>\n",
       "      <td>Sun Piaoyang</td>\n",
       "      <td>$17,100,000,000</td>\n",
       "      <td>63</td>\n",
       "      <td>China</td>\n",
       "      <td>pharmaceuticals</td>\n",
       "      <td>Healthcare</td>\n",
       "    </tr>\n",
       "    <tr>\n",
       "      <th>99</th>\n",
       "      <td>Luo Liguo &amp; family</td>\n",
       "      <td>$17,000,000,000</td>\n",
       "      <td>66</td>\n",
       "      <td>China</td>\n",
       "      <td>chemicals</td>\n",
       "      <td>Manufacturing</td>\n",
       "    </tr>\n",
       "    <tr>\n",
       "      <th>100</th>\n",
       "      <td>Peter Woo</td>\n",
       "      <td>$17,000,000,000</td>\n",
       "      <td>75</td>\n",
       "      <td>Hong Kong</td>\n",
       "      <td>real estate</td>\n",
       "      <td>Real Estate</td>\n",
       "    </tr>\n",
       "  </tbody>\n",
       "</table>\n",
       "</div>"
      ],
      "text/plain": [
       "                        Name         NetWorth  Age Country/Territory  \\\n",
       "91   Savitri Jindal & family  $17,700,000,000   72             India   \n",
       "92               Wang Wenyin  $17,700,000,000   54             China   \n",
       "93                 Li Xiting  $17,600,000,000   71         Singapore   \n",
       "94            Stefan Persson  $17,600,000,000   74            Sweden   \n",
       "95               Steve Cohen  $17,400,000,000   65     United States   \n",
       "96          Vladimir Potanin  $17,300,000,000   61            Russia   \n",
       "97      Harold Hamm & family  $17,200,000,000   76     United States   \n",
       "98              Sun Piaoyang  $17,100,000,000   63             China   \n",
       "99        Luo Liguo & family  $17,000,000,000   66             China   \n",
       "100                Peter Woo  $17,000,000,000   75         Hong Kong   \n",
       "\n",
       "                      Source               Industry  \n",
       "91                     steel        Metals & Mining  \n",
       "92   mining, copper products        Metals & Mining  \n",
       "93           medical devices             Healthcare  \n",
       "94                       H&M       Fashion & Retail  \n",
       "95               hedge funds  Finance & Investments  \n",
       "96                    metals        Metals & Mining  \n",
       "97                 oil & gas                 Energy  \n",
       "98           pharmaceuticals             Healthcare  \n",
       "99                 chemicals          Manufacturing  \n",
       "100              real estate            Real Estate  "
      ]
     },
     "execution_count": 90,
     "metadata": {},
     "output_type": "execute_result"
    }
   ],
   "source": [
    "dataframe.tail(10) # Returns the last 10 rows"
   ]
  },
  {
   "cell_type": "code",
   "execution_count": 92,
   "id": "d670677f-19af-4bcc-9912-aa035b11f652",
   "metadata": {},
   "outputs": [
    {
     "data": {
      "text/html": [
       "<div>\n",
       "<style scoped>\n",
       "    .dataframe tbody tr th:only-of-type {\n",
       "        vertical-align: middle;\n",
       "    }\n",
       "\n",
       "    .dataframe tbody tr th {\n",
       "        vertical-align: top;\n",
       "    }\n",
       "\n",
       "    .dataframe thead th {\n",
       "        text-align: right;\n",
       "    }\n",
       "</style>\n",
       "<table border=\"1\" class=\"dataframe\">\n",
       "  <thead>\n",
       "    <tr style=\"text-align: right;\">\n",
       "      <th></th>\n",
       "      <th>Name</th>\n",
       "      <th>NetWorth</th>\n",
       "      <th>Age</th>\n",
       "      <th>Country/Territory</th>\n",
       "      <th>Source</th>\n",
       "      <th>Industry</th>\n",
       "    </tr>\n",
       "  </thead>\n",
       "  <tbody>\n",
       "    <tr>\n",
       "      <th>10</th>\n",
       "      <td>Gautam Adani &amp; family</td>\n",
       "      <td>$90,000,000,000</td>\n",
       "      <td>59</td>\n",
       "      <td>India</td>\n",
       "      <td>infrastructure, commodities</td>\n",
       "      <td>Diversified</td>\n",
       "    </tr>\n",
       "    <tr>\n",
       "      <th>11</th>\n",
       "      <td>Michael Bloomberg</td>\n",
       "      <td>$82,000,000,000</td>\n",
       "      <td>80</td>\n",
       "      <td>United States</td>\n",
       "      <td>Bloomberg LP</td>\n",
       "      <td>Media &amp; Entertainment</td>\n",
       "    </tr>\n",
       "    <tr>\n",
       "      <th>12</th>\n",
       "      <td>Carlos Slim Helu &amp; family</td>\n",
       "      <td>$81,200,000,000</td>\n",
       "      <td>82</td>\n",
       "      <td>Mexico</td>\n",
       "      <td>telecom</td>\n",
       "      <td>Telecom</td>\n",
       "    </tr>\n",
       "    <tr>\n",
       "      <th>13</th>\n",
       "      <td>Francoise Bettencourt Meyers &amp; family</td>\n",
       "      <td>$74,800,000,000</td>\n",
       "      <td>68</td>\n",
       "      <td>France</td>\n",
       "      <td>L'Oréal</td>\n",
       "      <td>Fashion &amp; Retail</td>\n",
       "    </tr>\n",
       "    <tr>\n",
       "      <th>14</th>\n",
       "      <td>Mark Zuckerberg</td>\n",
       "      <td>$67,300,000,000</td>\n",
       "      <td>37</td>\n",
       "      <td>United States</td>\n",
       "      <td>Facebook</td>\n",
       "      <td>Technology</td>\n",
       "    </tr>\n",
       "    <tr>\n",
       "      <th>...</th>\n",
       "      <td>...</td>\n",
       "      <td>...</td>\n",
       "      <td>...</td>\n",
       "      <td>...</td>\n",
       "      <td>...</td>\n",
       "      <td>...</td>\n",
       "    </tr>\n",
       "    <tr>\n",
       "      <th>96</th>\n",
       "      <td>Vladimir Potanin</td>\n",
       "      <td>$17,300,000,000</td>\n",
       "      <td>61</td>\n",
       "      <td>Russia</td>\n",
       "      <td>metals</td>\n",
       "      <td>Metals &amp; Mining</td>\n",
       "    </tr>\n",
       "    <tr>\n",
       "      <th>97</th>\n",
       "      <td>Harold Hamm &amp; family</td>\n",
       "      <td>$17,200,000,000</td>\n",
       "      <td>76</td>\n",
       "      <td>United States</td>\n",
       "      <td>oil &amp; gas</td>\n",
       "      <td>Energy</td>\n",
       "    </tr>\n",
       "    <tr>\n",
       "      <th>98</th>\n",
       "      <td>Sun Piaoyang</td>\n",
       "      <td>$17,100,000,000</td>\n",
       "      <td>63</td>\n",
       "      <td>China</td>\n",
       "      <td>pharmaceuticals</td>\n",
       "      <td>Healthcare</td>\n",
       "    </tr>\n",
       "    <tr>\n",
       "      <th>99</th>\n",
       "      <td>Luo Liguo &amp; family</td>\n",
       "      <td>$17,000,000,000</td>\n",
       "      <td>66</td>\n",
       "      <td>China</td>\n",
       "      <td>chemicals</td>\n",
       "      <td>Manufacturing</td>\n",
       "    </tr>\n",
       "    <tr>\n",
       "      <th>100</th>\n",
       "      <td>Peter Woo</td>\n",
       "      <td>$17,000,000,000</td>\n",
       "      <td>75</td>\n",
       "      <td>Hong Kong</td>\n",
       "      <td>real estate</td>\n",
       "      <td>Real Estate</td>\n",
       "    </tr>\n",
       "  </tbody>\n",
       "</table>\n",
       "<p>91 rows × 6 columns</p>\n",
       "</div>"
      ],
      "text/plain": [
       "                                      Name         NetWorth  Age  \\\n",
       "10                   Gautam Adani & family  $90,000,000,000   59   \n",
       "11                       Michael Bloomberg  $82,000,000,000   80   \n",
       "12               Carlos Slim Helu & family  $81,200,000,000   82   \n",
       "13   Francoise Bettencourt Meyers & family  $74,800,000,000   68   \n",
       "14                         Mark Zuckerberg  $67,300,000,000   37   \n",
       "..                                     ...              ...  ...   \n",
       "96                        Vladimir Potanin  $17,300,000,000   61   \n",
       "97                    Harold Hamm & family  $17,200,000,000   76   \n",
       "98                            Sun Piaoyang  $17,100,000,000   63   \n",
       "99                      Luo Liguo & family  $17,000,000,000   66   \n",
       "100                              Peter Woo  $17,000,000,000   75   \n",
       "\n",
       "    Country/Territory                       Source               Industry  \n",
       "10              India  infrastructure, commodities            Diversified  \n",
       "11      United States                 Bloomberg LP  Media & Entertainment  \n",
       "12             Mexico                      telecom                Telecom  \n",
       "13             France                      L'Oréal       Fashion & Retail  \n",
       "14      United States                     Facebook             Technology  \n",
       "..                ...                          ...                    ...  \n",
       "96             Russia                       metals        Metals & Mining  \n",
       "97      United States                    oil & gas                 Energy  \n",
       "98              China              pharmaceuticals             Healthcare  \n",
       "99              China                    chemicals          Manufacturing  \n",
       "100         Hong Kong                  real estate            Real Estate  \n",
       "\n",
       "[91 rows x 6 columns]"
      ]
     },
     "execution_count": 92,
     "metadata": {},
     "output_type": "execute_result"
    }
   ],
   "source": [
    "dataframe.tail(-10) # Returns all rows excluding first 10 rows"
   ]
  }
 ],
 "metadata": {
  "kernelspec": {
   "display_name": "Python 3 (ipykernel)",
   "language": "python",
   "name": "python3"
  },
  "language_info": {
   "codemirror_mode": {
    "name": "ipython",
    "version": 3
   },
   "file_extension": ".py",
   "mimetype": "text/x-python",
   "name": "python",
   "nbconvert_exporter": "python",
   "pygments_lexer": "ipython3",
   "version": "3.11.3"
  }
 },
 "nbformat": 4,
 "nbformat_minor": 5
}
